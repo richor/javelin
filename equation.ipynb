{
 "cells": [
  {
   "cell_type": "code",
   "execution_count": 1,
   "metadata": {
    "collapsed": false
   },
   "outputs": [
   ],
   "source": [
    "load(\"distance.txt\")"
   ]
  },
  {
   "cell_type": "code",
   "execution_count": 2,
   "metadata": {
    "collapsed": false
   },
   "outputs": [
    {
     "name": "stdout",
     "output_type": "stream",
     "text": [
      "ans =\n"
     ]
    },
    {
     "name": "stdout",
     "output_type": "stream",
     "text": [
      "\n"
     ]
    },
    {
     "name": "stdout",
     "output_type": "stream",
     "text": [
      "   24    5\n"
     ]
    },
    {
     "name": "stdout",
     "output_type": "stream",
     "text": [
      "\n"
     ]
    }
   ],
   "source": [
    "size(distance)\n",
    "%distance(:,5)"
   ]
  },
  {
   "cell_type": "markdown",
   "metadata": {
    "collapsed": false
   },
   "source": [
    "首先，建立模型，需要求解含参的二阶微分方程组：\n",
    "x,y\n",
    "\n",
    "$F_p=C_p\\rho sv_p^2/2$\n",
    "\n",
    "$F_f=C_f\\rho sv_t^2/2$\n",
    "\n",
    "$v_p=vsin\\beta$,  $v_t=vcos\\beta$\n",
    "\n",
    "$v_x=vcos\\alpha=x'$,  $v_y=vsin\\alpha=y'$\n",
    "\n",
    "$v_p=\\frac{x'}{cos\\alpha}*sin\\beta$,  $v_t=\\frac{y'}{sin\\alpha}*cos{\\beta}$\n",
    "\n",
    "\n",
    "\n",
    "$-F_fcos\\gamma-sign(\\beta)F_p\\sin\\gamma=ma_x$, $a_x=x^{''}$, $a_x=\\frac{dv_x}{dt}$\n",
    "\n",
    "$-sign(\\beta)F_f sin\\gamma+F_p cos\\gamma-mg=ma_y$, $a_y=y^{''}$"
   ]
  },
  {
   "cell_type": "markdown",
   "metadata": {
    "collapsed": false
   },
   "source": [
    "$K_1*v_x^2+K_2*v_y^2-K_3=v^{'}_y$\n",
    "\n",
    "$(K_1(cot\\alpha)^2+K_2)*v_y^2-K_3=v^{'}_y$"
   ]
  },
  {
   "cell_type": "markdown",
   "metadata": {
    "collapsed": false
   },
   "source": [
    "按mathematica的结果，为\n",
    "$v_y=-\\sqrt{\\frac{b}{a}}tanh(\\sqrt{ab}(c_1+t))$\n",
    "\n",
    "$a=K_1(cot\\alpha)^2+K_2$\n",
    "\n",
    "$b=K_3=g$"
   ]
  },
  {
   "cell_type": "markdown",
   "metadata": {
    "collapsed": false
   },
   "source": [
    "$x(t)=-log(c_1+(M1+(tan\\alpha)^2M2)t)$"
   ]
  },
  {
   "cell_type": "markdown",
   "metadata": {
    "collapsed": false
   },
   "source": [
    "$y(t)=-\\sqrt{\\frac{b}{a}}*(t-\\frac{log(tanh(\\sqrt{ab}(t+c_1))+1)}{\\sqrt{ab}})$"
   ]
  },
  {
   "cell_type": "markdown",
   "metadata": {
    "collapsed": false
   },
   "source": [
    "可以简化为简单的方程：\n",
    "\n",
    "$M_1*v_x^2+M_2*v_y^2=v^{'}_x$\n",
    "\n",
    "$v_y=v_x*tan\\alpha$\n",
    "\n",
    "$(M_1+(tan\\alpha)^2M_2) v_x^2= v^{'}_x$\n",
    "\n",
    "\n"
   ]
  },
  {
   "cell_type": "code",
   "execution_count": 44,
   "metadata": {
    "collapsed": false
   },
   "outputs": [
    {
     "name": "stdout",
     "output_type": "stream",
     "text": [
      "warning: worked around octave bug #42735\n"
     ]
    },
    {
     "name": "stdout",
     "output_type": "stream",
     "text": [
      "warning: called from\n"
     ]
    },
    {
     "name": "stdout",
     "output_type": "stream",
     "text": [
      "    mtimes at line 55 column 5\n"
     ]
    },
    {
     "name": "stdout",
     "output_type": "stream",
     "text": [
      "DE = (sym)\n"
     ]
    },
    {
     "name": "stdout",
     "output_type": "stream",
     "text": [
      "\n"
     ]
    },
    {
     "name": "stdout",
     "output_type": "stream",
     "text": [
      "       2      d           \n"
     ]
    },
    {
     "name": "stdout",
     "output_type": "stream",
     "text": [
      "  - a⋅v (x) + ──(v(x)) = 0\n"
     ]
    },
    {
     "name": "stdout",
     "output_type": "stream",
     "text": [
      "              dx          \n"
     ]
    },
    {
     "name": "stdout",
     "output_type": "stream",
     "text": [
      "\n"
     ]
    },
    {
     "name": "stdout",
     "output_type": "stream",
     "text": [
      "sol = (sym)\n"
     ]
    },
    {
     "name": "stdout",
     "output_type": "stream",
     "text": [
      "\n"
     ]
    },
    {
     "name": "stdout",
     "output_type": "stream",
     "text": [
      "           -1    \n"
     ]
    },
    {
     "name": "stdout",
     "output_type": "stream",
     "text": [
      "  v(x) = ────────\n"
     ]
    },
    {
     "name": "stdout",
     "output_type": "stream",
     "text": [
      "         C₁ + a⋅x\n"
     ]
    },
    {
     "name": "stdout",
     "output_type": "stream",
     "text": [
      "\n"
     ]
    }
   ],
   "source": [
    "syms v(x)\n",
    "syms a\n",
    "DE = diff(v, x) - a*v^2 == 0\n",
    "sol=dsolve(DE)"
   ]
  },
  {
   "cell_type": "markdown",
   "metadata": {
    "collapsed": false
   },
   "source": [
    "$v_x=\\frac{-1}{c_1+(M1+(tan\\alpha)^2M2)t}$"
   ]
  },
  {
   "cell_type": "markdown",
   "metadata": {
    "collapsed": false
   },
   "source": [
    "$x(t)=-log(c_1+(M1+(tan\\alpha)^2M2)t)$"
   ]
  },
  {
   "cell_type": "code",
   "execution_count": 58,
   "metadata": {
    "collapsed": false
   },
   "outputs": [
    {
     "name": "stdout",
     "output_type": "stream",
     "text": [
      "ans = (sym)\n"
     ]
    },
    {
     "name": "stdout",
     "output_type": "stream",
     "text": [
      "\n"
     ]
    },
    {
     "name": "stdout",
     "output_type": "stream",
     "text": [
      "  ⎧             0                for a = 0\n"
     ]
    },
    {
     "name": "stdout",
     "output_type": "stream",
     "text": [
      "  ⎪                                       \n"
     ]
    },
    {
     "name": "stdout",
     "output_type": "stream",
     "text": [
      "  ⎨    log(tanh(a⋅b + a⋅x) + 1)           \n"
     ]
    },
    {
     "name": "stdout",
     "output_type": "stream",
     "text": [
      "  ⎪x - ────────────────────────  otherwise\n"
     ]
    },
    {
     "name": "stdout",
     "output_type": "stream",
     "text": [
      "  ⎩               a                       \n"
     ]
    },
    {
     "name": "stdout",
     "output_type": "stream",
     "text": [
      "\n"
     ]
    },
    {
     "name": "stdout",
     "output_type": "stream",
     "text": [
      "ans = (sym) log(a + x)\n"
     ]
    },
    {
     "name": "stdout",
     "output_type": "stream",
     "text": [
      "ans = (sym)\n"
     ]
    },
    {
     "name": "stdout",
     "output_type": "stream",
     "text": [
      "\n"
     ]
    },
    {
     "name": "stdout",
     "output_type": "stream",
     "text": [
      "   2\n"
     ]
    },
    {
     "name": "stdout",
     "output_type": "stream",
     "text": [
      "  x \n"
     ]
    },
    {
     "name": "stdout",
     "output_type": "stream",
     "text": [
      "\n"
     ]
    },
    {
     "name": "stdout",
     "output_type": "stream",
     "text": [
      "ans = (sym)\n"
     ]
    },
    {
     "name": "stdout",
     "output_type": "stream",
     "text": [
      "\n"
     ]
    },
    {
     "name": "stdout",
     "output_type": "stream",
     "text": [
      "        4 \n"
     ]
    },
    {
     "name": "stdout",
     "output_type": "stream",
     "text": [
      "  6⋅t - ──\n"
     ]
    },
    {
     "name": "stdout",
     "output_type": "stream",
     "text": [
      "         3\n"
     ]
    },
    {
     "name": "stdout",
     "output_type": "stream",
     "text": [
      "        t \n"
     ]
    },
    {
     "name": "stdout",
     "output_type": "stream",
     "text": [
      "\n"
     ]
    }
   ],
   "source": [
    "pkg load symbolic\n",
    "syms x a\n",
    "int(tanh(a*(x+b)))\n",
    "int(1/(a+x))\n",
    "int(2*x)\n",
    "\n",
    "syms t;\n",
    "f = 3*t^2 + 2*t^(-2);\n",
    "diff(f)"
   ]
  },
  {
   "cell_type": "code",
   "execution_count": 0,
   "metadata": {
    "collapsed": false
   },
   "outputs": [
   ],
   "source": [
    "x="
   ]
  },
  {
   "cell_type": "code",
   "execution_count": 22,
   "metadata": {
    "collapsed": false
   },
   "outputs": [
    {
     "name": "stdout",
     "output_type": "stream",
     "text": [
      "DE = (sym)\n"
     ]
    },
    {
     "name": "stdout",
     "output_type": "stream",
     "text": [
      "\n"
     ]
    },
    {
     "name": "stdout",
     "output_type": "stream",
     "text": [
      "            d           \n"
     ]
    },
    {
     "name": "stdout",
     "output_type": "stream",
     "text": [
      "  -4⋅y(x) + ──(y(x)) = 0\n"
     ]
    },
    {
     "name": "stdout",
     "output_type": "stream",
     "text": [
      "            dx          \n"
     ]
    },
    {
     "name": "stdout",
     "output_type": "stream",
     "text": [
      "\n"
     ]
    },
    {
     "name": "stdout",
     "output_type": "stream",
     "text": [
      "sol = (sym)\n"
     ]
    },
    {
     "name": "stdout",
     "output_type": "stream",
     "text": [
      "\n"
     ]
    },
    {
     "name": "stdout",
     "output_type": "stream",
     "text": [
      "             4⋅x\n"
     ]
    },
    {
     "name": "stdout",
     "output_type": "stream",
     "text": [
      "  y(x) = C₁⋅ℯ   \n"
     ]
    },
    {
     "name": "stdout",
     "output_type": "stream",
     "text": [
      "\n"
     ]
    }
   ],
   "source": [
    "syms y(x)\n",
    "DE = diff(y, x) - 4*y == 0\n",
    "sol=dsolve(DE)"
   ]
  },
  {
   "cell_type": "markdown",
   "metadata": {
    "collapsed": false
   },
   "source": [
    "写成一阶的形式：\n",
    "\n",
    "$F_p=C_p\\rho sv_p^2/2$\n",
    "\n",
    "$F_f=C_f\\rho sv_t^2/2$\n",
    "\n",
    "$v_p=vsin\\beta$,  $v_t=vcos\\beta$\n",
    "\n",
    "$v_x=vcos\\alpha=x'$,  $v_y=vsin\\alpha=y'$\n",
    "\n",
    "$v_p=\\frac{x'}{cos\\alpha}*sin\\beta$,  $v_t=\\frac{y'}{sin\\alpha}*cos{\\beta}$\n",
    "\n",
    "\n",
    "\n",
    "$-F_fcos\\gamma-sign(\\beta)F_f\\sin\\gamma=ma_x$, $a_x=x^{''}$\n",
    "\n",
    "$-sign(\\beta)F_p sin\\gamma+F_p cos\\gamma-mg=ma_y$, $a_y=y^{''}$"
   ]
  },
  {
   "cell_type": "code",
   "execution_count": 29,
   "metadata": {
    "collapsed": false
   },
   "outputs": [
    {
     "name": "stdout",
     "output_type": "stream",
     "text": [
      "ode_sys = (sym 2×1 matrix)\n"
     ]
    },
    {
     "name": "stdout",
     "output_type": "stream",
     "text": [
      "\n"
     ]
    },
    {
     "name": "stdout",
     "output_type": "stream",
     "text": [
      "  ⎡d                ⎤\n"
     ]
    },
    {
     "name": "stdout",
     "output_type": "stream",
     "text": [
      "  ⎢──(x(t)) = 2⋅y(t)⎥\n"
     ]
    },
    {
     "name": "stdout",
     "output_type": "stream",
     "text": [
      "  ⎢dt               ⎥\n"
     ]
    },
    {
     "name": "stdout",
     "output_type": "stream",
     "text": [
      "  ⎢                 ⎥\n"
     ]
    },
    {
     "name": "stdout",
     "output_type": "stream",
     "text": [
      "  ⎢d                ⎥\n"
     ]
    },
    {
     "name": "stdout",
     "output_type": "stream",
     "text": [
      "  ⎢──(y(t)) = k⋅x(t)⎥\n"
     ]
    },
    {
     "name": "stdout",
     "output_type": "stream",
     "text": [
      "  ⎣dt               ⎦\n"
     ]
    },
    {
     "name": "stdout",
     "output_type": "stream",
     "text": [
      "\n"
     ]
    },
    {
     "name": "stdout",
     "output_type": "stream",
     "text": [
      "error: Python exception: TypeError: cannot determine truth value of Relational\n"
     ]
    },
    {
     "name": "stdout",
     "output_type": "stream",
     "text": [
      "    occurred at line 1 of the Python code block:\n"
     ]
    },
    {
     "name": "stdout",
     "output_type": "stream",
     "text": [
      "    return sp.dsolve(*_ins),\n"
     ]
    },
    {
     "name": "stdout",
     "output_type": "stream",
     "text": [
      "error: called from\n"
     ]
    },
    {
     "name": "stdout",
     "output_type": "stream",
     "text": [
      "    python_cmd at line 179 column 7\n"
     ]
    },
    {
     "name": "stdout",
     "output_type": "stream",
     "text": [
      "    dsolve at line 228 column 10\n"
     ]
    }
   ],
   "source": [
    "syms x(t) y(t)\n",
    "syms k\n",
    "ode_sys = [diff(x(t),t) == 2*y(t);  diff(y(t),t) == k*x(t)]\n",
    "dsolve (ode_sys)"
   ]
  },
  {
   "cell_type": "code",
   "execution_count": 26,
   "metadata": {
    "collapsed": false
   },
   "outputs": [
    {
     "name": "stdout",
     "output_type": "stream",
     "text": [
      "ode_sys = (sym 3×1 matrix)\n"
     ]
    },
    {
     "name": "stdout",
     "output_type": "stream",
     "text": [
      "\n"
     ]
    },
    {
     "name": "stdout",
     "output_type": "stream",
     "text": [
      "  ⎡d                 ⎤\n"
     ]
    },
    {
     "name": "stdout",
     "output_type": "stream",
     "text": [
      "  ⎢──(x(t)) = k⋅y(t) ⎥\n"
     ]
    },
    {
     "name": "stdout",
     "output_type": "stream",
     "text": [
      "  ⎢dt                ⎥\n"
     ]
    },
    {
     "name": "stdout",
     "output_type": "stream",
     "text": [
      "  ⎢                  ⎥\n"
     ]
    },
    {
     "name": "stdout",
     "output_type": "stream",
     "text": [
      "  ⎢d                 ⎥\n"
     ]
    },
    {
     "name": "stdout",
     "output_type": "stream",
     "text": [
      "  ⎢──(y(t)) = 2⋅x₁(t)⎥\n"
     ]
    },
    {
     "name": "stdout",
     "output_type": "stream",
     "text": [
      "  ⎢dt                ⎥\n"
     ]
    },
    {
     "name": "stdout",
     "output_type": "stream",
     "text": [
      "  ⎢                  ⎥\n"
     ]
    },
    {
     "name": "stdout",
     "output_type": "stream",
     "text": [
      "  ⎢ d                ⎥\n"
     ]
    },
    {
     "name": "stdout",
     "output_type": "stream",
     "text": [
      "  ⎢ ──(x(t)) = x₁(t) ⎥\n"
     ]
    },
    {
     "name": "stdout",
     "output_type": "stream",
     "text": [
      "  ⎣ dt               ⎦\n"
     ]
    },
    {
     "name": "stdout",
     "output_type": "stream",
     "text": [
      "\n"
     ]
    }
   ],
   "source": [
    "syms x(t) y(t) x1(t)\n",
    "syms k\n",
    "ode_sys = [diff(x(t),t) == k*y(t);  diff(y(t),t) == 2*x1(t); diff(x(t),t)== x1(t)]"
   ]
  },
  {
   "cell_type": "code",
   "execution_count": 21,
   "metadata": {
    "collapsed": false
   },
   "outputs": [
    {
     "name": "stdout",
     "output_type": "stream",
     "text": [
      "'@sym/dsolve' is a function from the file /usr/share/octave/packages/symbolic-2.6.0/@sym/dsolve.m\n"
     ]
    },
    {
     "name": "stdout",
     "output_type": "stream",
     "text": [
      "\n"
     ]
    },
    {
     "name": "stdout",
     "output_type": "stream",
     "text": [
      " -- Method on @sym: SOL = dsolve (ODE)\n"
     ]
    },
    {
     "name": "stdout",
     "output_type": "stream",
     "text": [
      " -- Method on @sym: SOL = dsolve (ODE, IC)\n"
     ]
    },
    {
     "name": "stdout",
     "output_type": "stream",
     "text": [
      " -- Method on @sym: SOL = dsolve (ODE, IC1, IC2, ...)\n"
     ]
    },
    {
     "name": "stdout",
     "output_type": "stream",
     "text": [
      " -- Method on @sym: [SOL, CLASSIFY] = dsolve (ODE, IC)\n"
     ]
    },
    {
     "name": "stdout",
     "output_type": "stream",
     "text": [
      "     Solve ordinary differentual equations (ODEs) symbolically.\n"
     ]
    },
    {
     "name": "stdout",
     "output_type": "stream",
     "text": [
      "\n"
     ]
    },
    {
     "name": "stdout",
     "output_type": "stream",
     "text": [
      "     Basic example:\n"
     ]
    },
    {
     "name": "stdout",
     "output_type": "stream",
     "text": [
      "          syms y(x)\n"
     ]
    },
    {
     "name": "stdout",
     "output_type": "stream",
     "text": [
      "          DE = diff(y, x) - 4*y == 0\n"
     ]
    },
    {
     "name": "stdout",
     "output_type": "stream",
     "text": [
      "            ⇒ DE = (sym)\n"
     ]
    },
    {
     "name": "stdout",
     "output_type": "stream",
     "text": [
      "                          d\n"
     ]
    },
    {
     "name": "stdout",
     "output_type": "stream",
     "text": [
      "                -4⋅y(x) + ──(y(x)) = 0\n"
     ]
    },
    {
     "name": "stdout",
     "output_type": "stream",
     "text": [
      "                          dx\n"
     ]
    },
    {
     "name": "stdout",
     "output_type": "stream",
     "text": [
      "\n"
     ]
    },
    {
     "name": "stdout",
     "output_type": "stream",
     "text": [
      "          sol = dsolve (DE)\n"
     ]
    },
    {
     "name": "stdout",
     "output_type": "stream",
     "text": [
      "            ⇒ sol = (sym)\n"
     ]
    },
    {
     "name": "stdout",
     "output_type": "stream",
     "text": [
      "                           4⋅x\n"
     ]
    },
    {
     "name": "stdout",
     "output_type": "stream",
     "text": [
      "                y(x) = C₁⋅ℯ\n"
     ]
    },
    {
     "name": "stdout",
     "output_type": "stream",
     "text": [
      "\n"
     ]
    },
    {
     "name": "stdout",
     "output_type": "stream",
     "text": [
      "     You can specify initial conditions:\n"
     ]
    },
    {
     "name": "stdout",
     "output_type": "stream",
     "text": [
      "          sol = dsolve (DE, y(0) == 1)\n"
     ]
    },
    {
     "name": "stdout",
     "output_type": "stream",
     "text": [
      "            ⇒ sol = (sym)\n"
     ]
    },
    {
     "name": "stdout",
     "output_type": "stream",
     "text": [
      "                        4⋅x\n"
     ]
    },
    {
     "name": "stdout",
     "output_type": "stream",
     "text": [
      "                y(x) = ℯ\n"
     ]
    },
    {
     "name": "stdout",
     "output_type": "stream",
     "text": [
      "\n"
     ]
    },
    {
     "name": "stdout",
     "output_type": "stream",
     "text": [
      "     Note the result is an equation so if you need an expression for the\n"
     ]
    },
    {
     "name": "stdout",
     "output_type": "stream",
     "text": [
      "     solution:\n"
     ]
    },
    {
     "name": "stdout",
     "output_type": "stream",
     "text": [
      "          rhs (sol)\n"
     ]
    },
    {
     "name": "stdout",
     "output_type": "stream",
     "text": [
      "            ⇒ (sym)\n"
     ]
    },
    {
     "name": "stdout",
     "output_type": "stream",
     "text": [
      "                 4⋅x\n"
     ]
    },
    {
     "name": "stdout",
     "output_type": "stream",
     "text": [
      "                ℯ\n"
     ]
    },
    {
     "name": "stdout",
     "output_type": "stream",
     "text": [
      "\n"
     ]
    },
    {
     "name": "stdout",
     "output_type": "stream",
     "text": [
      "     In some cases, SymPy can return a classification of the\n"
     ]
    },
    {
     "name": "stdout",
     "output_type": "stream",
     "text": [
      "     differential equation:\n"
     ]
    },
    {
     "name": "stdout",
     "output_type": "stream",
     "text": [
      "          DE = diff(y) == y^2\n"
     ]
    },
    {
     "name": "stdout",
     "output_type": "stream",
     "text": [
      "            ⇒ DE = (sym)\n"
     ]
    },
    {
     "name": "stdout",
     "output_type": "stream",
     "text": [
      "                d           2\n"
     ]
    },
    {
     "name": "stdout",
     "output_type": "stream",
     "text": [
      "                ──(y(x)) = y (x)\n"
     ]
    },
    {
     "name": "stdout",
     "output_type": "stream",
     "text": [
      "                dx\n"
     ]
    },
    {
     "name": "stdout",
     "output_type": "stream",
     "text": [
      "\n"
     ]
    },
    {
     "name": "stdout",
     "output_type": "stream",
     "text": [
      "          [sol, classify] = dsolve (DE, y(0) == 1)\n"
     ]
    },
    {
     "name": "stdout",
     "output_type": "stream",
     "text": [
      "            ⇒ sol = (sym)\n"
     ]
    },
    {
     "name": "stdout",
     "output_type": "stream",
     "text": [
      "                         -1\n"
     ]
    },
    {
     "name": "stdout",
     "output_type": "stream",
     "text": [
      "                 y(x) = ─────\n"
     ]
    },
    {
     "name": "stdout",
     "output_type": "stream",
     "text": [
      "                        x - 1\n"
     ]
    },
    {
     "name": "stdout",
     "output_type": "stream",
     "text": [
      "            ⇒ classify = separable\n"
     ]
    },
    {
     "name": "stdout",
     "output_type": "stream",
     "text": [
      "\n"
     ]
    },
    {
     "name": "stdout",
     "output_type": "stream",
     "text": [
      "     Many types of ODEs can be solved, including initial-value problems\n"
     ]
    },
    {
     "name": "stdout",
     "output_type": "stream",
     "text": [
      "     and boundary-value problem:\n"
     ]
    },
    {
     "name": "stdout",
     "output_type": "stream",
     "text": [
      "          DE = diff(y, 2) == -9*y\n"
     ]
    },
    {
     "name": "stdout",
     "output_type": "stream",
     "text": [
      "            ⇒ DE = (sym)\n"
     ]
    },
    {
     "name": "stdout",
     "output_type": "stream",
     "text": [
      "                   2\n"
     ]
    },
    {
     "name": "stdout",
     "output_type": "stream",
     "text": [
      "                  d\n"
     ]
    },
    {
     "name": "stdout",
     "output_type": "stream",
     "text": [
      "                 ───(y(x)) = -9⋅y(x)\n"
     ]
    },
    {
     "name": "stdout",
     "output_type": "stream",
     "text": [
      "                   2\n"
     ]
    },
    {
     "name": "stdout",
     "output_type": "stream",
     "text": [
      "                 dx\n"
     ]
    },
    {
     "name": "stdout",
     "output_type": "stream",
     "text": [
      "\n"
     ]
    },
    {
     "name": "stdout",
     "output_type": "stream",
     "text": [
      "          dsolve (DE, y(0) == 1, diff(y)(0) == 12)\n"
     ]
    },
    {
     "name": "stdout",
     "output_type": "stream",
     "text": [
      "            ⇒ (sym) y(x) = 4⋅sin(3⋅x) + cos(3⋅x)\n"
     ]
    },
    {
     "name": "stdout",
     "output_type": "stream",
     "text": [
      "\n"
     ]
    },
    {
     "name": "stdout",
     "output_type": "stream",
     "text": [
      "          dsolve (DE, y(0)==1, y(sym(pi)/2) == 2)\n"
     ]
    },
    {
     "name": "stdout",
     "output_type": "stream",
     "text": [
      "            ⇒ (sym) y(x) = -2⋅sin(3⋅x) + cos(3⋅x)\n"
     ]
    },
    {
     "name": "stdout",
     "output_type": "stream",
     "text": [
      "\n"
     ]
    },
    {
     "name": "stdout",
     "output_type": "stream",
     "text": [
      "     Some systems can be solved, including initial-value problems\n"
     ]
    },
    {
     "name": "stdout",
     "output_type": "stream",
     "text": [
      "     involving linear systems of first order ODEs with constant\n"
     ]
    },
    {
     "name": "stdout",
     "output_type": "stream",
     "text": [
      "     coefficients:\n"
     ]
    },
    {
     "name": "stdout",
     "output_type": "stream",
     "text": [
      "          syms x(t) y(t)\n"
     ]
    },
    {
     "name": "stdout",
     "output_type": "stream",
     "text": [
      "          ode_sys = [diff(x(t),t) == 2*y(t);  diff(y(t),t) == 2*x(t)]\n"
     ]
    },
    {
     "name": "stdout",
     "output_type": "stream",
     "text": [
      "            ⇒ ode_sys = (sym 2×1 matrix)\n"
     ]
    },
    {
     "name": "stdout",
     "output_type": "stream",
     "text": [
      "                ⎡d                ⎤\n"
     ]
    },
    {
     "name": "stdout",
     "output_type": "stream",
     "text": [
      "                ⎢──(x(t)) = 2⋅y(t)⎥\n"
     ]
    },
    {
     "name": "stdout",
     "output_type": "stream",
     "text": [
      "                ⎢dt               ⎥\n"
     ]
    },
    {
     "name": "stdout",
     "output_type": "stream",
     "text": [
      "                ⎢                 ⎥\n"
     ]
    },
    {
     "name": "stdout",
     "output_type": "stream",
     "text": [
      "                ⎢d                ⎥\n"
     ]
    },
    {
     "name": "stdout",
     "output_type": "stream",
     "text": [
      "                ⎢──(y(t)) = 2⋅x(t)⎥\n"
     ]
    },
    {
     "name": "stdout",
     "output_type": "stream",
     "text": [
      "                ⎣dt               ⎦\n"
     ]
    },
    {
     "name": "stdout",
     "output_type": "stream",
     "text": [
      "\n"
     ]
    },
    {
     "name": "stdout",
     "output_type": "stream",
     "text": [
      "          dsolve (ode_sys)\n"
     ]
    },
    {
     "name": "stdout",
     "output_type": "stream",
     "text": [
      "            ⇒ ans =\n"
     ]
    },
    {
     "name": "stdout",
     "output_type": "stream",
     "text": [
      "              {\n"
     ]
    },
    {
     "name": "stdout",
     "output_type": "stream",
     "text": [
      "                (sym)\n"
     ]
    },
    {
     "name": "stdout",
     "output_type": "stream",
     "text": [
      "                               -2⋅t         2⋅t\n"
     ]
    },
    {
     "name": "stdout",
     "output_type": "stream",
     "text": [
      "                  x(t) = 2⋅C₁⋅ℯ     + 2⋅C₂⋅ℯ\n"
     ]
    },
    {
     "name": "stdout",
     "output_type": "stream",
     "text": [
      "\n"
     ]
    },
    {
     "name": "stdout",
     "output_type": "stream",
     "text": [
      "                (sym)\n"
     ]
    },
    {
     "name": "stdout",
     "output_type": "stream",
     "text": [
      "                                 -2⋅t         2⋅t\n"
     ]
    },
    {
     "name": "stdout",
     "output_type": "stream",
     "text": [
      "                  y(t) = - 2⋅C₁⋅ℯ     + 2⋅C₂⋅ℯ\n"
     ]
    },
    {
     "name": "stdout",
     "output_type": "stream",
     "text": [
      "              }\n"
     ]
    },
    {
     "name": "stdout",
     "output_type": "stream",
     "text": [
      "\n"
     ]
    },
    {
     "name": "stdout",
     "output_type": "stream",
     "text": [
      "     *WARNING*: As of SymPy 0.7.6 (May 2015), there are many problems\n"
     ]
    },
    {
     "name": "stdout",
     "output_type": "stream",
     "text": [
      "     with systems, even very simple ones.  Use these at your own risk,\n"
     ]
    },
    {
     "name": "stdout",
     "output_type": "stream",
     "text": [
      "     or even better: help us fix SymPy.\n"
     ]
    },
    {
     "name": "stdout",
     "output_type": "stream",
     "text": [
      "\n"
     ]
    },
    {
     "name": "stdout",
     "output_type": "stream",
     "text": [
      "     Note: The Symbolic Math Toolbox supports strings like ’Dy + y = 0’;\n"
     ]
    },
    {
     "name": "stdout",
     "output_type": "stream",
     "text": [
      "     we are unlikely to support this so you will need to assemble a\n"
     ]
    },
    {
     "name": "stdout",
     "output_type": "stream",
     "text": [
      "     symbolic equation instead.\n"
     ]
    },
    {
     "name": "stdout",
     "output_type": "stream",
     "text": [
      "\n"
     ]
    },
    {
     "name": "stdout",
     "output_type": "stream",
     "text": [
      "     See also: @sym/diff, @sym/int, @sym/solve.\n"
     ]
    },
    {
     "name": "stdout",
     "output_type": "stream",
     "text": [
      "\n"
     ]
    },
    {
     "name": "stdout",
     "output_type": "stream",
     "text": [
      "Additional help for built-in functions and operators is\n"
     ]
    },
    {
     "name": "stdout",
     "output_type": "stream",
     "text": [
      "available in the online version of the manual.  Use the command\n"
     ]
    },
    {
     "name": "stdout",
     "output_type": "stream",
     "text": [
      "'doc <topic>' to search the manual index.\n"
     ]
    },
    {
     "name": "stdout",
     "output_type": "stream",
     "text": [
      "\n"
     ]
    },
    {
     "name": "stdout",
     "output_type": "stream",
     "text": [
      "Help and information about Octave is also available on the WWW\n"
     ]
    },
    {
     "name": "stdout",
     "output_type": "stream",
     "text": [
      "at http://www.octave.org and via the help@octave.org\n"
     ]
    },
    {
     "name": "stdout",
     "output_type": "stream",
     "text": [
      "mailing list.\n"
     ]
    }
   ],
   "source": [
    "help @sym/dsolve"
   ]
  },
  {
   "cell_type": "code",
   "execution_count": 0,
   "metadata": {
    "collapsed": false
   },
   "outputs": [
   ],
   "source": [
   ]
  }
 ],
 "metadata": {
  "kernelspec": {
   "display_name": "Octave",
   "language": "octave",
   "name": "octave"
  },
  "language_info": {
   "file_extension": ".m",
   "help_links": [
    {
     "text": "GNU Octave",
     "url": "https://www.gnu.org/software/octave/support.html"
    },
    {
     "text": "Octave Kernel",
     "url": "https://github.com/Calysto/octave_kernel"
    },
    {
     "text": "MetaKernel Magics",
     "url": "https://github.com/calysto/metakernel/blob/master/metakernel/magics/README.md"
    }
   ],
   "mimetype": "text/x-octave",
   "name": "octave",
   "version": "4.2.2"
  }
 },
 "nbformat": 4,
 "nbformat_minor": 0
}