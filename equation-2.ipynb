{
 "cells": [
  {
   "cell_type": "code",
   "execution_count": 1,
   "metadata": {
    "collapsed": false
   },
   "outputs": [
   ],
   "source": [
    "load(\"distance.txt\")"
   ]
  },
  {
   "cell_type": "code",
   "execution_count": 2,
   "metadata": {
    "collapsed": false
   },
   "outputs": [
    {
     "name": "stdout",
     "output_type": "stream",
     "text": [
      "ans =\n"
     ]
    },
    {
     "name": "stdout",
     "output_type": "stream",
     "text": [
      "\n"
     ]
    },
    {
     "name": "stdout",
     "output_type": "stream",
     "text": [
      "   24    5\n"
     ]
    },
    {
     "name": "stdout",
     "output_type": "stream",
     "text": [
      "\n"
     ]
    }
   ],
   "source": [
    "size(distance)\n",
    "%distance(:,5)"
   ]
  },
  {
   "cell_type": "markdown",
   "metadata": {
    "collapsed": false
   },
   "source": [
    "首先，建立模型，需要求解含参的二阶微分方程组：\n",
    "x,y\n",
    "\n",
    "$F_p=C_p\\rho sv_p^2/2$\n",
    "\n",
    "$F_f=C_f\\rho sv_t^2/2$\n",
    "\n",
    "$v_p=vsin\\beta$,  $v_t=vcos\\beta$\n",
    "\n",
    "$v_x=vcos\\alpha=x'$,  $v_y=vsin\\alpha=y'$\n",
    "\n",
    "$v_p=\\frac{x'}{cos\\alpha}*sin\\beta$,  $v_t=\\frac{y'}{sin\\alpha}*cos{\\beta}$\n",
    "\n",
    "\n",
    "\n",
    "$-F_fcos\\gamma-sign(\\beta)F_p\\sin\\gamma=ma_x$, $a_x=x^{''}$, $a_x=\\frac{dv_x}{dt}$\n",
    "\n",
    "$-sign(\\beta)F_f sin\\gamma+F_p cos\\gamma-mg=ma_y$, $a_y=y^{''}$"
   ]
  },
  {
   "cell_type": "markdown",
   "metadata": {
    "collapsed": false
   },
   "source": [
    "$K_1*v_x^2+K_2*v_y^2-K_3=v^{'}_y$\n",
    "\n",
    "$(K_1(cot\\alpha)^2+K_2)*v_y^2-K_3=v^{'}_y$"
   ]
  },
  {
   "cell_type": "markdown",
   "metadata": {
    "collapsed": false
   },
   "source": [
    "$K_1=C_p \\rho s \\cos\\gamma*(\\frac{\\sin\\beta}{\\cos\\alpha})^2/2m$\n",
    "\n",
    "$K_2=-sign(\\beta)C_f \\rho s \\sin\\gamma*(\\frac{\\cos\\beta}{\\sin\\alpha})^2/2m$\n",
    "\n",
    "$M_1=-sign(\\beta)C_p \\rho s \\sin\\gamma*(\\frac{\\sin\\beta}{\\cos\\alpha})^2/2m$\n",
    "\n",
    "$M_2=C_f \\rho s \\cos\\gamma*(\\frac{\\cos\\beta}{\\sin\\alpha})^2/2m$\n"
   ]
  },
  {
   "cell_type": "markdown",
   "metadata": {
    "collapsed": false
   },
   "source": [
    "按mathematica的结果，为\n",
    "$v_y=-\\sqrt{\\frac{b}{a}}tanh(\\sqrt{ab}(c_1+t))$ $(a>0)$\n",
    "\n",
    "$v_y=-\\sqrt{\\frac{b}{a}}tan(\\sqrt{ab}(c_1+t))$ $(a<0)$\n",
    "\n",
    "$a=K_1(cot\\alpha)^2+K_2$\n",
    "\n",
    "$b=K_3=g$"
   ]
  },
  {
   "cell_type": "markdown",
   "metadata": {
    "collapsed": false
   },
   "source": [
    "$x(t)=-log(c_1+(M1+(tan\\alpha)^2M2)t)+c2$"
   ]
  },
  {
   "cell_type": "markdown",
   "metadata": {
    "collapsed": false
   },
   "source": [
    "$y(t)=-\\sqrt{\\frac{b}{a}}*(t-\\frac{log(tanh(\\sqrt{ab}(t+c_1))+1)}{\\sqrt{ab}})$ $(a>0)$\n",
    "\n",
    "$y(t)=\\frac{log(\\tan^2(\\sqrt{ab}(t+c_1)+1)}{2a}$ $(a<0)$"
   ]
  },
  {
   "cell_type": "markdown",
   "metadata": {
    "collapsed": false
   },
   "source": [
    "根据初值条件，t=0, y=2, x=0；\n",
    "可以求出，\n",
    "\n",
    "$x(t)=-log(e^{c_1}+(M1+(tan\\alpha)^2M2)t)+c1$\n",
    "\n",
    "$y(t)=-\\sqrt{\\frac{b}{a}}*(t-\\frac{log(tanh(\\sqrt{ab}(t+c_2))+1)}{\\sqrt{ab}})$ $(a>0)$\n",
    "\n",
    "$y(t)=\\frac{log(\\tan^2(\\sqrt{ab}(t+c_2)+1)}{2a}$ $(a<0)$\n",
    "\n",
    "其中,$c_2$满足如下方程：\n",
    "\n",
    "$\\tanh(\\sqrt{ab}c_2+1)=e^{2a}$ $(a>0)$\n",
    "\n",
    "$c_2=\\frac{atan\\sqrt{e^{4a}-1}}{\\sqrt{ab}}$ $(a<0)$"
   ]
  },
  {
   "cell_type": "code",
   "execution_count": 0,
   "metadata": {
    "collapsed": false
   },
   "outputs": [
   ],
   "source": [
    "x=-log(e^c1+(M1+(tan(alpha))^2*M2)*t)+c1;\n",
    "y=log(tan(\\sqrt(A*B)*(t+c2))^2+1)/2/A;"
   ]
  },
  {
   "cell_type": "markdown",
   "metadata": {
    "collapsed": false
   },
   "source": [
    "接下来可以数值画出轨迹曲线："
   ]
  },
  {
   "cell_type": "code",
   "execution_count": 30,
   "metadata": {
    "collapsed": false
   },
   "outputs": [
    {
     "name": "stdout",
     "output_type": "stream",
     "text": [
      "M1 = -0.0029046\n"
     ]
    },
    {
     "name": "stdout",
     "output_type": "stream",
     "text": [
      "M2 =  1.6259\n"
     ]
    },
    {
     "name": "stdout",
     "output_type": "stream",
     "text": [
      "K1 =  0.0041483\n"
     ]
    },
    {
     "name": "stdout",
     "output_type": "stream",
     "text": [
      "K2 = -1.1384\n"
     ]
    },
    {
     "name": "stdout",
     "output_type": "stream",
     "text": [
      "A = -1.1260\n"
     ]
    },
    {
     "name": "stdout",
     "output_type": "stream",
     "text": [
      "B =  9.8000\n"
     ]
    },
    {
     "name": "stdout",
     "output_type": "stream",
     "text": [
      "c2 =  0.88576\n"
     ]
    },
    {
     "name": "stdout",
     "output_type": "stream",
     "text": [
      "C =  0.53905\n"
     ]
    }
   ],
   "source": [
    "cp=1;\n",
    "cf=1;\n",
    "rho=1;\n",
    "s=1;\n",
    "alpha=30*pi/180;\n",
    "beta=5*pi/180;\n",
    "sig=1;\n",
    "g=9.8;\n",
    "m=1;\n",
    "c1=1;\n",
    "\n",
    "gamma=alpha+beta;\n",
    "\n",
    "M1=-1*sig*cp*rho*s*sin(gamma)*sin(beta)^2/cos(alpha)^2/2/m\n",
    "M2=cf*rho*s*cos(gamma)*cos(beta)^2/sin(alpha)^2/2/m\n",
    "K1=cp*rho*s*cos(gamma)*sin(beta)^2/cos(alpha)^2/2/m\n",
    "K2=-1*sig*cf*rho*s*sin(gamma)*cos(beta)^2/sin(alpha)^2/2/m\n",
    "A=K1*cot(alpha)^2+K2\n",
    "B=g\n",
    "c2=atan(sqrt(e^(4*A)-1))/sqrt(A*B)\n",
    "C=M1+tan(alpha)^2*M2"
   ]
  },
  {
   "cell_type": "code",
   "execution_count": 25,
   "metadata": {
    "collapsed": false
   },
   "outputs": [
   ],
   "source": [
    "t=[0:0.1:100];\n",
    "x=-log(e^c1+(M1+(tan(alpha))^2*M2)*t)+c1;\n",
    "y=log(tan(sqrt(A*B)*(t+c2)).^2+1)/2/A;"
   ]
  },
  {
   "cell_type": "code",
   "execution_count": 29,
   "metadata": {
    "collapsed": false
   },
   "outputs": [
    {
     "name": "stdout",
     "output_type": "stream",
     "text": [
      "ans = 0\n"
     ]
    },
    {
     "name": "stdout",
     "output_type": "stream",
     "text": [
      "ans = -0.019636\n"
     ]
    },
    {
     "name": "stdout",
     "output_type": "stream",
     "text": [
      "ans = -0.038895\n"
     ]
    },
    {
     "name": "stdout",
     "output_type": "stream",
     "text": [
      "ans = -0.057789\n"
     ]
    },
    {
     "name": "stdout",
     "output_type": "stream",
     "text": [
      "ans = -0.076333\n"
     ]
    },
    {
     "name": "stdout",
     "output_type": "stream",
     "text": [
      "ans = -0.094539\n"
     ]
    },
    {
     "name": "stdout",
     "output_type": "stream",
     "text": [
      "ans = -0.11242\n"
     ]
    },
    {
     "name": "stdout",
     "output_type": "stream",
     "text": [
      "ans = -0.12999\n"
     ]
    },
    {
     "name": "stdout",
     "output_type": "stream",
     "text": [
      "ans = -0.14725\n"
     ]
    },
    {
     "name": "stdout",
     "output_type": "stream",
     "text": [
      "ans = -0.16422\n"
     ]
    }
   ],
   "source": [
    "for i = [1:10]\n",
    "x(i)\n",
    "end\n",
    "%plot(x,y)"
   ]
  },
  {
   "cell_type": "markdown",
   "metadata": {
    "collapsed": false
   },
   "source": [
    "可以简化为简单的方程：\n",
    "\n",
    "$M_1*v_x^2+M_2*v_y^2=v^{'}_x$\n",
    "\n",
    "$v_y=v_x*tan\\alpha$\n",
    "\n",
    "$(M_1+(tan\\alpha)^2M_2) v_x^2= v^{'}_x$\n",
    "\n",
    "\n"
   ]
  },
  {
   "cell_type": "code",
   "execution_count": 44,
   "metadata": {
    "collapsed": false
   },
   "outputs": [
    {
     "name": "stdout",
     "output_type": "stream",
     "text": [
      "warning: worked around octave bug #42735\n"
     ]
    },
    {
     "name": "stdout",
     "output_type": "stream",
     "text": [
      "warning: called from\n"
     ]
    },
    {
     "name": "stdout",
     "output_type": "stream",
     "text": [
      "    mtimes at line 55 column 5\n"
     ]
    },
    {
     "name": "stdout",
     "output_type": "stream",
     "text": [
      "DE = (sym)\n"
     ]
    },
    {
     "name": "stdout",
     "output_type": "stream",
     "text": [
      "\n"
     ]
    },
    {
     "name": "stdout",
     "output_type": "stream",
     "text": [
      "       2      d           \n"
     ]
    },
    {
     "name": "stdout",
     "output_type": "stream",
     "text": [
      "  - a⋅v (x) + ──(v(x)) = 0\n"
     ]
    },
    {
     "name": "stdout",
     "output_type": "stream",
     "text": [
      "              dx          \n"
     ]
    },
    {
     "name": "stdout",
     "output_type": "stream",
     "text": [
      "\n"
     ]
    },
    {
     "name": "stdout",
     "output_type": "stream",
     "text": [
      "sol = (sym)\n"
     ]
    },
    {
     "name": "stdout",
     "output_type": "stream",
     "text": [
      "\n"
     ]
    },
    {
     "name": "stdout",
     "output_type": "stream",
     "text": [
      "           -1    \n"
     ]
    },
    {
     "name": "stdout",
     "output_type": "stream",
     "text": [
      "  v(x) = ────────\n"
     ]
    },
    {
     "name": "stdout",
     "output_type": "stream",
     "text": [
      "         C₁ + a⋅x\n"
     ]
    },
    {
     "name": "stdout",
     "output_type": "stream",
     "text": [
      "\n"
     ]
    }
   ],
   "source": [
    "syms v(x)\n",
    "syms a\n",
    "DE = diff(v, x) - a*v^2 == 0\n",
    "sol=dsolve(DE)"
   ]
  },
  {
   "cell_type": "markdown",
   "metadata": {
    "collapsed": false
   },
   "source": [
    "$v_x=\\frac{-1}{c_1+(M1+(tan\\alpha)^2M2)t}$"
   ]
  },
  {
   "cell_type": "markdown",
   "metadata": {
    "collapsed": false
   },
   "source": [
    "$x(t)=-log(c_1+(M1+(tan\\alpha)^2M2)t)+c_2$"
   ]
  },
  {
   "cell_type": "code",
   "execution_count": 31,
   "metadata": {
    "collapsed": false
   },
   "outputs": [
    {
     "name": "stdout",
     "output_type": "stream",
     "text": [
      "ans = (sym)\n"
     ]
    },
    {
     "name": "stdout",
     "output_type": "stream",
     "text": [
      "\n"
     ]
    },
    {
     "name": "stdout",
     "output_type": "stream",
     "text": [
      "  ⎧             0                for a = 0\n"
     ]
    },
    {
     "name": "stdout",
     "output_type": "stream",
     "text": [
      "  ⎪                                       \n"
     ]
    },
    {
     "name": "stdout",
     "output_type": "stream",
     "text": [
      "  ⎨    log(tanh(a⋅b + a⋅x) + 1)           \n"
     ]
    },
    {
     "name": "stdout",
     "output_type": "stream",
     "text": [
      "  ⎪x - ────────────────────────  otherwise\n"
     ]
    },
    {
     "name": "stdout",
     "output_type": "stream",
     "text": [
      "  ⎩               a                       \n"
     ]
    },
    {
     "name": "stdout",
     "output_type": "stream",
     "text": [
      "\n"
     ]
    },
    {
     "name": "stdout",
     "output_type": "stream",
     "text": [
      "ans = (sym)\n"
     ]
    },
    {
     "name": "stdout",
     "output_type": "stream",
     "text": [
      "\n"
     ]
    },
    {
     "name": "stdout",
     "output_type": "stream",
     "text": [
      "  ⎧           0              for a = 0\n"
     ]
    },
    {
     "name": "stdout",
     "output_type": "stream",
     "text": [
      "  ⎪                                   \n"
     ]
    },
    {
     "name": "stdout",
     "output_type": "stream",
     "text": [
      "  ⎪   ⎛   2               ⎞           \n"
     ]
    },
    {
     "name": "stdout",
     "output_type": "stream",
     "text": [
      "  ⎨log⎝tan (a⋅b + a⋅x) + 1⎠           \n"
     ]
    },
    {
     "name": "stdout",
     "output_type": "stream",
     "text": [
      "  ⎪────────────────────────  otherwise\n"
     ]
    },
    {
     "name": "stdout",
     "output_type": "stream",
     "text": [
      "  ⎪          2⋅a                      \n"
     ]
    },
    {
     "name": "stdout",
     "output_type": "stream",
     "text": [
      "  ⎩                                   \n"
     ]
    },
    {
     "name": "stdout",
     "output_type": "stream",
     "text": [
      "\n"
     ]
    },
    {
     "name": "stdout",
     "output_type": "stream",
     "text": [
      "ans = (sym) -log(a + x)\n"
     ]
    },
    {
     "name": "stdout",
     "output_type": "stream",
     "text": [
      "ans = (sym)\n"
     ]
    },
    {
     "name": "stdout",
     "output_type": "stream",
     "text": [
      "\n"
     ]
    },
    {
     "name": "stdout",
     "output_type": "stream",
     "text": [
      "        4 \n"
     ]
    },
    {
     "name": "stdout",
     "output_type": "stream",
     "text": [
      "  6⋅t - ──\n"
     ]
    },
    {
     "name": "stdout",
     "output_type": "stream",
     "text": [
      "         3\n"
     ]
    },
    {
     "name": "stdout",
     "output_type": "stream",
     "text": [
      "        t \n"
     ]
    },
    {
     "name": "stdout",
     "output_type": "stream",
     "text": [
      "\n"
     ]
    }
   ],
   "source": [
    "pkg load symbolic\n",
    "syms x a b\n",
    "int(tanh(a*(x+b)))\n",
    "int(tan(a*(x+b)))\n",
    "\n",
    "\n",
    "int(-1/(a+x))\n",
    "\n",
    "syms t;\n",
    "f = 3*t^2 + 2*t^(-2);\n",
    "diff(f)"
   ]
  },
  {
   "cell_type": "code",
   "execution_count": 0,
   "metadata": {
    "collapsed": false
   },
   "outputs": [
   ],
   "source": [
    "x="
   ]
  },
  {
   "cell_type": "code",
   "execution_count": 22,
   "metadata": {
    "collapsed": false
   },
   "outputs": [
    {
     "name": "stdout",
     "output_type": "stream",
     "text": [
      "DE = (sym)\n"
     ]
    },
    {
     "name": "stdout",
     "output_type": "stream",
     "text": [
      "\n"
     ]
    },
    {
     "name": "stdout",
     "output_type": "stream",
     "text": [
      "            d           \n"
     ]
    },
    {
     "name": "stdout",
     "output_type": "stream",
     "text": [
      "  -4⋅y(x) + ──(y(x)) = 0\n"
     ]
    },
    {
     "name": "stdout",
     "output_type": "stream",
     "text": [
      "            dx          \n"
     ]
    },
    {
     "name": "stdout",
     "output_type": "stream",
     "text": [
      "\n"
     ]
    },
    {
     "name": "stdout",
     "output_type": "stream",
     "text": [
      "sol = (sym)\n"
     ]
    },
    {
     "name": "stdout",
     "output_type": "stream",
     "text": [
      "\n"
     ]
    },
    {
     "name": "stdout",
     "output_type": "stream",
     "text": [
      "             4⋅x\n"
     ]
    },
    {
     "name": "stdout",
     "output_type": "stream",
     "text": [
      "  y(x) = C₁⋅ℯ   \n"
     ]
    },
    {
     "name": "stdout",
     "output_type": "stream",
     "text": [
      "\n"
     ]
    }
   ],
   "source": [
    "syms y(x)\n",
    "DE = diff(y, x) - 4*y == 0\n",
    "sol=dsolve(DE)"
   ]
  },
  {
   "cell_type": "markdown",
   "metadata": {
    "collapsed": false
   },
   "source": [
    "写成一阶的形式：\n",
    "\n",
    "$F_p=C_p\\rho sv_p^2/2$\n",
    "\n",
    "$F_f=C_f\\rho sv_t^2/2$\n",
    "\n",
    "$v_p=vsin\\beta$,  $v_t=vcos\\beta$\n",
    "\n",
    "$v_x=vcos\\alpha=x'$,  $v_y=vsin\\alpha=y'$\n",
    "\n",
    "$v_p=\\frac{x'}{cos\\alpha}*sin\\beta$,  $v_t=\\frac{y'}{sin\\alpha}*cos{\\beta}$\n",
    "\n",
    "\n",
    "\n",
    "$-F_fcos\\gamma-sign(\\beta)F_f\\sin\\gamma=ma_x$, $a_x=x^{''}$\n",
    "\n",
    "$-sign(\\beta)F_p sin\\gamma+F_p cos\\gamma-mg=ma_y$, $a_y=y^{''}$"
   ]
  },
  {
   "cell_type": "code",
   "execution_count": 29,
   "metadata": {
    "collapsed": false
   },
   "outputs": [
    {
     "name": "stdout",
     "output_type": "stream",
     "text": [
      "ode_sys = (sym 2×1 matrix)\n"
     ]
    },
    {
     "name": "stdout",
     "output_type": "stream",
     "text": [
      "\n"
     ]
    },
    {
     "name": "stdout",
     "output_type": "stream",
     "text": [
      "  ⎡d                ⎤\n"
     ]
    },
    {
     "name": "stdout",
     "output_type": "stream",
     "text": [
      "  ⎢──(x(t)) = 2⋅y(t)⎥\n"
     ]
    },
    {
     "name": "stdout",
     "output_type": "stream",
     "text": [
      "  ⎢dt               ⎥\n"
     ]
    },
    {
     "name": "stdout",
     "output_type": "stream",
     "text": [
      "  ⎢                 ⎥\n"
     ]
    },
    {
     "name": "stdout",
     "output_type": "stream",
     "text": [
      "  ⎢d                ⎥\n"
     ]
    },
    {
     "name": "stdout",
     "output_type": "stream",
     "text": [
      "  ⎢──(y(t)) = k⋅x(t)⎥\n"
     ]
    },
    {
     "name": "stdout",
     "output_type": "stream",
     "text": [
      "  ⎣dt               ⎦\n"
     ]
    },
    {
     "name": "stdout",
     "output_type": "stream",
     "text": [
      "\n"
     ]
    },
    {
     "name": "stdout",
     "output_type": "stream",
     "text": [
      "error: Python exception: TypeError: cannot determine truth value of Relational\n"
     ]
    },
    {
     "name": "stdout",
     "output_type": "stream",
     "text": [
      "    occurred at line 1 of the Python code block:\n"
     ]
    },
    {
     "name": "stdout",
     "output_type": "stream",
     "text": [
      "    return sp.dsolve(*_ins),\n"
     ]
    },
    {
     "name": "stdout",
     "output_type": "stream",
     "text": [
      "error: called from\n"
     ]
    },
    {
     "name": "stdout",
     "output_type": "stream",
     "text": [
      "    python_cmd at line 179 column 7\n"
     ]
    },
    {
     "name": "stdout",
     "output_type": "stream",
     "text": [
      "    dsolve at line 228 column 10\n"
     ]
    }
   ],
   "source": [
    "syms x(t) y(t)\n",
    "syms k\n",
    "ode_sys = [diff(x(t),t) == 2*y(t);  diff(y(t),t) == k*x(t)]\n",
    "dsolve (ode_sys)"
   ]
  },
  {
   "cell_type": "code",
   "execution_count": 26,
   "metadata": {
    "collapsed": false
   },
   "outputs": [
    {
     "name": "stdout",
     "output_type": "stream",
     "text": [
      "ode_sys = (sym 3×1 matrix)\n"
     ]
    },
    {
     "name": "stdout",
     "output_type": "stream",
     "text": [
      "\n"
     ]
    },
    {
     "name": "stdout",
     "output_type": "stream",
     "text": [
      "  ⎡d                 ⎤\n"
     ]
    },
    {
     "name": "stdout",
     "output_type": "stream",
     "text": [
      "  ⎢──(x(t)) = k⋅y(t) ⎥\n"
     ]
    },
    {
     "name": "stdout",
     "output_type": "stream",
     "text": [
      "  ⎢dt                ⎥\n"
     ]
    },
    {
     "name": "stdout",
     "output_type": "stream",
     "text": [
      "  ⎢                  ⎥\n"
     ]
    },
    {
     "name": "stdout",
     "output_type": "stream",
     "text": [
      "  ⎢d                 ⎥\n"
     ]
    },
    {
     "name": "stdout",
     "output_type": "stream",
     "text": [
      "  ⎢──(y(t)) = 2⋅x₁(t)⎥\n"
     ]
    },
    {
     "name": "stdout",
     "output_type": "stream",
     "text": [
      "  ⎢dt                ⎥\n"
     ]
    },
    {
     "name": "stdout",
     "output_type": "stream",
     "text": [
      "  ⎢                  ⎥\n"
     ]
    },
    {
     "name": "stdout",
     "output_type": "stream",
     "text": [
      "  ⎢ d                ⎥\n"
     ]
    },
    {
     "name": "stdout",
     "output_type": "stream",
     "text": [
      "  ⎢ ──(x(t)) = x₁(t) ⎥\n"
     ]
    },
    {
     "name": "stdout",
     "output_type": "stream",
     "text": [
      "  ⎣ dt               ⎦\n"
     ]
    },
    {
     "name": "stdout",
     "output_type": "stream",
     "text": [
      "\n"
     ]
    }
   ],
   "source": [
    "syms x(t) y(t) x1(t)\n",
    "syms k\n",
    "ode_sys = [diff(x(t),t) == k*y(t);  diff(y(t),t) == 2*x1(t); diff(x(t),t)== x1(t)]"
   ]
  },
  {
   "cell_type": "code",
   "execution_count": 21,
   "metadata": {
    "collapsed": false
   },
   "outputs": [
    {
     "name": "stdout",
     "output_type": "stream",
     "text": [
      "'@sym/dsolve' is a function from the file /usr/share/octave/packages/symbolic-2.6.0/@sym/dsolve.m\n"
     ]
    },
    {
     "name": "stdout",
     "output_type": "stream",
     "text": [
      "\n"
     ]
    },
    {
     "name": "stdout",
     "output_type": "stream",
     "text": [
      " -- Method on @sym: SOL = dsolve (ODE)\n"
     ]
    },
    {
     "name": "stdout",
     "output_type": "stream",
     "text": [
      " -- Method on @sym: SOL = dsolve (ODE, IC)\n"
     ]
    },
    {
     "name": "stdout",
     "output_type": "stream",
     "text": [
      " -- Method on @sym: SOL = dsolve (ODE, IC1, IC2, ...)\n"
     ]
    },
    {
     "name": "stdout",
     "output_type": "stream",
     "text": [
      " -- Method on @sym: [SOL, CLASSIFY] = dsolve (ODE, IC)\n"
     ]
    },
    {
     "name": "stdout",
     "output_type": "stream",
     "text": [
      "     Solve ordinary differentual equations (ODEs) symbolically.\n"
     ]
    },
    {
     "name": "stdout",
     "output_type": "stream",
     "text": [
      "\n"
     ]
    },
    {
     "name": "stdout",
     "output_type": "stream",
     "text": [
      "     Basic example:\n"
     ]
    },
    {
     "name": "stdout",
     "output_type": "stream",
     "text": [
      "          syms y(x)\n"
     ]
    },
    {
     "name": "stdout",
     "output_type": "stream",
     "text": [
      "          DE = diff(y, x) - 4*y == 0\n"
     ]
    },
    {
     "name": "stdout",
     "output_type": "stream",
     "text": [
      "            ⇒ DE = (sym)\n"
     ]
    },
    {
     "name": "stdout",
     "output_type": "stream",
     "text": [
      "                          d\n"
     ]
    },
    {
     "name": "stdout",
     "output_type": "stream",
     "text": [
      "                -4⋅y(x) + ──(y(x)) = 0\n"
     ]
    },
    {
     "name": "stdout",
     "output_type": "stream",
     "text": [
      "                          dx\n"
     ]
    },
    {
     "name": "stdout",
     "output_type": "stream",
     "text": [
      "\n"
     ]
    },
    {
     "name": "stdout",
     "output_type": "stream",
     "text": [
      "          sol = dsolve (DE)\n"
     ]
    },
    {
     "name": "stdout",
     "output_type": "stream",
     "text": [
      "            ⇒ sol = (sym)\n"
     ]
    },
    {
     "name": "stdout",
     "output_type": "stream",
     "text": [
      "                           4⋅x\n"
     ]
    },
    {
     "name": "stdout",
     "output_type": "stream",
     "text": [
      "                y(x) = C₁⋅ℯ\n"
     ]
    },
    {
     "name": "stdout",
     "output_type": "stream",
     "text": [
      "\n"
     ]
    },
    {
     "name": "stdout",
     "output_type": "stream",
     "text": [
      "     You can specify initial conditions:\n"
     ]
    },
    {
     "name": "stdout",
     "output_type": "stream",
     "text": [
      "          sol = dsolve (DE, y(0) == 1)\n"
     ]
    },
    {
     "name": "stdout",
     "output_type": "stream",
     "text": [
      "            ⇒ sol = (sym)\n"
     ]
    },
    {
     "name": "stdout",
     "output_type": "stream",
     "text": [
      "                        4⋅x\n"
     ]
    },
    {
     "name": "stdout",
     "output_type": "stream",
     "text": [
      "                y(x) = ℯ\n"
     ]
    },
    {
     "name": "stdout",
     "output_type": "stream",
     "text": [
      "\n"
     ]
    },
    {
     "name": "stdout",
     "output_type": "stream",
     "text": [
      "     Note the result is an equation so if you need an expression for the\n"
     ]
    },
    {
     "name": "stdout",
     "output_type": "stream",
     "text": [
      "     solution:\n"
     ]
    },
    {
     "name": "stdout",
     "output_type": "stream",
     "text": [
      "          rhs (sol)\n"
     ]
    },
    {
     "name": "stdout",
     "output_type": "stream",
     "text": [
      "            ⇒ (sym)\n"
     ]
    },
    {
     "name": "stdout",
     "output_type": "stream",
     "text": [
      "                 4⋅x\n"
     ]
    },
    {
     "name": "stdout",
     "output_type": "stream",
     "text": [
      "                ℯ\n"
     ]
    },
    {
     "name": "stdout",
     "output_type": "stream",
     "text": [
      "\n"
     ]
    },
    {
     "name": "stdout",
     "output_type": "stream",
     "text": [
      "     In some cases, SymPy can return a classification of the\n"
     ]
    },
    {
     "name": "stdout",
     "output_type": "stream",
     "text": [
      "     differential equation:\n"
     ]
    },
    {
     "name": "stdout",
     "output_type": "stream",
     "text": [
      "          DE = diff(y) == y^2\n"
     ]
    },
    {
     "name": "stdout",
     "output_type": "stream",
     "text": [
      "            ⇒ DE = (sym)\n"
     ]
    },
    {
     "name": "stdout",
     "output_type": "stream",
     "text": [
      "                d           2\n"
     ]
    },
    {
     "name": "stdout",
     "output_type": "stream",
     "text": [
      "                ──(y(x)) = y (x)\n"
     ]
    },
    {
     "name": "stdout",
     "output_type": "stream",
     "text": [
      "                dx\n"
     ]
    },
    {
     "name": "stdout",
     "output_type": "stream",
     "text": [
      "\n"
     ]
    },
    {
     "name": "stdout",
     "output_type": "stream",
     "text": [
      "          [sol, classify] = dsolve (DE, y(0) == 1)\n"
     ]
    },
    {
     "name": "stdout",
     "output_type": "stream",
     "text": [
      "            ⇒ sol = (sym)\n"
     ]
    },
    {
     "name": "stdout",
     "output_type": "stream",
     "text": [
      "                         -1\n"
     ]
    },
    {
     "name": "stdout",
     "output_type": "stream",
     "text": [
      "                 y(x) = ─────\n"
     ]
    },
    {
     "name": "stdout",
     "output_type": "stream",
     "text": [
      "                        x - 1\n"
     ]
    },
    {
     "name": "stdout",
     "output_type": "stream",
     "text": [
      "            ⇒ classify = separable\n"
     ]
    },
    {
     "name": "stdout",
     "output_type": "stream",
     "text": [
      "\n"
     ]
    },
    {
     "name": "stdout",
     "output_type": "stream",
     "text": [
      "     Many types of ODEs can be solved, including initial-value problems\n"
     ]
    },
    {
     "name": "stdout",
     "output_type": "stream",
     "text": [
      "     and boundary-value problem:\n"
     ]
    },
    {
     "name": "stdout",
     "output_type": "stream",
     "text": [
      "          DE = diff(y, 2) == -9*y\n"
     ]
    },
    {
     "name": "stdout",
     "output_type": "stream",
     "text": [
      "            ⇒ DE = (sym)\n"
     ]
    },
    {
     "name": "stdout",
     "output_type": "stream",
     "text": [
      "                   2\n"
     ]
    },
    {
     "name": "stdout",
     "output_type": "stream",
     "text": [
      "                  d\n"
     ]
    },
    {
     "name": "stdout",
     "output_type": "stream",
     "text": [
      "                 ───(y(x)) = -9⋅y(x)\n"
     ]
    },
    {
     "name": "stdout",
     "output_type": "stream",
     "text": [
      "                   2\n"
     ]
    },
    {
     "name": "stdout",
     "output_type": "stream",
     "text": [
      "                 dx\n"
     ]
    },
    {
     "name": "stdout",
     "output_type": "stream",
     "text": [
      "\n"
     ]
    },
    {
     "name": "stdout",
     "output_type": "stream",
     "text": [
      "          dsolve (DE, y(0) == 1, diff(y)(0) == 12)\n"
     ]
    },
    {
     "name": "stdout",
     "output_type": "stream",
     "text": [
      "            ⇒ (sym) y(x) = 4⋅sin(3⋅x) + cos(3⋅x)\n"
     ]
    },
    {
     "name": "stdout",
     "output_type": "stream",
     "text": [
      "\n"
     ]
    },
    {
     "name": "stdout",
     "output_type": "stream",
     "text": [
      "          dsolve (DE, y(0)==1, y(sym(pi)/2) == 2)\n"
     ]
    },
    {
     "name": "stdout",
     "output_type": "stream",
     "text": [
      "            ⇒ (sym) y(x) = -2⋅sin(3⋅x) + cos(3⋅x)\n"
     ]
    },
    {
     "name": "stdout",
     "output_type": "stream",
     "text": [
      "\n"
     ]
    },
    {
     "name": "stdout",
     "output_type": "stream",
     "text": [
      "     Some systems can be solved, including initial-value problems\n"
     ]
    },
    {
     "name": "stdout",
     "output_type": "stream",
     "text": [
      "     involving linear systems of first order ODEs with constant\n"
     ]
    },
    {
     "name": "stdout",
     "output_type": "stream",
     "text": [
      "     coefficients:\n"
     ]
    },
    {
     "name": "stdout",
     "output_type": "stream",
     "text": [
      "          syms x(t) y(t)\n"
     ]
    },
    {
     "name": "stdout",
     "output_type": "stream",
     "text": [
      "          ode_sys = [diff(x(t),t) == 2*y(t);  diff(y(t),t) == 2*x(t)]\n"
     ]
    },
    {
     "name": "stdout",
     "output_type": "stream",
     "text": [
      "            ⇒ ode_sys = (sym 2×1 matrix)\n"
     ]
    },
    {
     "name": "stdout",
     "output_type": "stream",
     "text": [
      "                ⎡d                ⎤\n"
     ]
    },
    {
     "name": "stdout",
     "output_type": "stream",
     "text": [
      "                ⎢──(x(t)) = 2⋅y(t)⎥\n"
     ]
    },
    {
     "name": "stdout",
     "output_type": "stream",
     "text": [
      "                ⎢dt               ⎥\n"
     ]
    },
    {
     "name": "stdout",
     "output_type": "stream",
     "text": [
      "                ⎢                 ⎥\n"
     ]
    },
    {
     "name": "stdout",
     "output_type": "stream",
     "text": [
      "                ⎢d                ⎥\n"
     ]
    },
    {
     "name": "stdout",
     "output_type": "stream",
     "text": [
      "                ⎢──(y(t)) = 2⋅x(t)⎥\n"
     ]
    },
    {
     "name": "stdout",
     "output_type": "stream",
     "text": [
      "                ⎣dt               ⎦\n"
     ]
    },
    {
     "name": "stdout",
     "output_type": "stream",
     "text": [
      "\n"
     ]
    },
    {
     "name": "stdout",
     "output_type": "stream",
     "text": [
      "          dsolve (ode_sys)\n"
     ]
    },
    {
     "name": "stdout",
     "output_type": "stream",
     "text": [
      "            ⇒ ans =\n"
     ]
    },
    {
     "name": "stdout",
     "output_type": "stream",
     "text": [
      "              {\n"
     ]
    },
    {
     "name": "stdout",
     "output_type": "stream",
     "text": [
      "                (sym)\n"
     ]
    },
    {
     "name": "stdout",
     "output_type": "stream",
     "text": [
      "                               -2⋅t         2⋅t\n"
     ]
    },
    {
     "name": "stdout",
     "output_type": "stream",
     "text": [
      "                  x(t) = 2⋅C₁⋅ℯ     + 2⋅C₂⋅ℯ\n"
     ]
    },
    {
     "name": "stdout",
     "output_type": "stream",
     "text": [
      "\n"
     ]
    },
    {
     "name": "stdout",
     "output_type": "stream",
     "text": [
      "                (sym)\n"
     ]
    },
    {
     "name": "stdout",
     "output_type": "stream",
     "text": [
      "                                 -2⋅t         2⋅t\n"
     ]
    },
    {
     "name": "stdout",
     "output_type": "stream",
     "text": [
      "                  y(t) = - 2⋅C₁⋅ℯ     + 2⋅C₂⋅ℯ\n"
     ]
    },
    {
     "name": "stdout",
     "output_type": "stream",
     "text": [
      "              }\n"
     ]
    },
    {
     "name": "stdout",
     "output_type": "stream",
     "text": [
      "\n"
     ]
    },
    {
     "name": "stdout",
     "output_type": "stream",
     "text": [
      "     *WARNING*: As of SymPy 0.7.6 (May 2015), there are many problems\n"
     ]
    },
    {
     "name": "stdout",
     "output_type": "stream",
     "text": [
      "     with systems, even very simple ones.  Use these at your own risk,\n"
     ]
    },
    {
     "name": "stdout",
     "output_type": "stream",
     "text": [
      "     or even better: help us fix SymPy.\n"
     ]
    },
    {
     "name": "stdout",
     "output_type": "stream",
     "text": [
      "\n"
     ]
    },
    {
     "name": "stdout",
     "output_type": "stream",
     "text": [
      "     Note: The Symbolic Math Toolbox supports strings like ’Dy + y = 0’;\n"
     ]
    },
    {
     "name": "stdout",
     "output_type": "stream",
     "text": [
      "     we are unlikely to support this so you will need to assemble a\n"
     ]
    },
    {
     "name": "stdout",
     "output_type": "stream",
     "text": [
      "     symbolic equation instead.\n"
     ]
    },
    {
     "name": "stdout",
     "output_type": "stream",
     "text": [
      "\n"
     ]
    },
    {
     "name": "stdout",
     "output_type": "stream",
     "text": [
      "     See also: @sym/diff, @sym/int, @sym/solve.\n"
     ]
    },
    {
     "name": "stdout",
     "output_type": "stream",
     "text": [
      "\n"
     ]
    },
    {
     "name": "stdout",
     "output_type": "stream",
     "text": [
      "Additional help for built-in functions and operators is\n"
     ]
    },
    {
     "name": "stdout",
     "output_type": "stream",
     "text": [
      "available in the online version of the manual.  Use the command\n"
     ]
    },
    {
     "name": "stdout",
     "output_type": "stream",
     "text": [
      "'doc <topic>' to search the manual index.\n"
     ]
    },
    {
     "name": "stdout",
     "output_type": "stream",
     "text": [
      "\n"
     ]
    },
    {
     "name": "stdout",
     "output_type": "stream",
     "text": [
      "Help and information about Octave is also available on the WWW\n"
     ]
    },
    {
     "name": "stdout",
     "output_type": "stream",
     "text": [
      "at http://www.octave.org and via the help@octave.org\n"
     ]
    },
    {
     "name": "stdout",
     "output_type": "stream",
     "text": [
      "mailing list.\n"
     ]
    }
   ],
   "source": [
    "help @sym/dsolve"
   ]
  },
  {
   "cell_type": "code",
   "execution_count": 0,
   "metadata": {
    "collapsed": false
   },
   "outputs": [
   ],
   "source": [
   ]
  }
 ],
 "metadata": {
  "kernelspec": {
   "display_name": "Octave",
   "language": "octave",
   "name": "octave"
  },
  "language_info": {
   "file_extension": ".m",
   "help_links": [
    {
     "text": "GNU Octave",
     "url": "https://www.gnu.org/software/octave/support.html"
    },
    {
     "text": "Octave Kernel",
     "url": "https://github.com/Calysto/octave_kernel"
    },
    {
     "text": "MetaKernel Magics",
     "url": "https://github.com/calysto/metakernel/blob/master/metakernel/magics/README.md"
    }
   ],
   "mimetype": "text/x-octave",
   "name": "octave",
   "version": "4.2.2"
  }
 },
 "nbformat": 4,
 "nbformat_minor": 0
}