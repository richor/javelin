{
 "cells": [
  {
   "cell_type": "markdown",
   "metadata": {
    "collapsed": false
   },
   "source": [
    "标枪的投掷是一项历史悠久的田径比赛项目。标枪投掷距离的远近受到运动员水平（出手速度、出手角、初始攻角、出手高度、出手时标枪的初始俯仰角速度等），标枪的技术参数（标枪的长度、重量、几何形状、重心的位置、形心的位置等）和比赛环境（空气的密度与粘度、风力、风向等）三方面因素的影响。为便于讨论，假设运动员出手高度为2m，标枪重量为800g,且不考虑标枪在飞行过程中的进动影响，空气密度为1.184x10$^3$ g/cm$^3$，空气粘度为1.84x10$^{-5}$(帕·秒)。\n"
   ]
  },
  {
   "cell_type": "markdown",
   "metadata": {
    "collapsed": false
   },
   "source": [
    "1.\t现有某型标枪的测量尺寸数据（见附件）。请估算该型标枪沿标枪中轴线剖面面积、标枪表面积和标枪形心的位置。（标枪示意图见【国家标准】 GB/T 22765-2008-标枪）\n"
   ]
  },
  {
   "cell_type": "code",
   "execution_count": 1,
   "metadata": {
    "collapsed": false
   },
   "outputs": [
   ],
   "source": [
    "shape=load('shape.txt');"
   ]
  },
  {
   "cell_type": "code",
   "execution_count": 2,
   "metadata": {
    "collapsed": false
   },
   "outputs": [
    {
     "data": {
      "image/png": "[encoded data removed]",
      "text/plain": [
       "<IPython.core.display.Image object>"
      ]
     },
     "execution_count": 2,
     "metadata": {
     },
     "output_type": "execute_result"
    }
   ],
   "source": [
    "plot(shape(:,1),shape(:,2),\"*\")"
   ]
  },
  {
   "cell_type": "code",
   "execution_count": 13,
   "metadata": {
    "collapsed": false,
    "scrolled": true
   },
   "outputs": [
    {
     "data": {
      "image/png": "[encoded data removed]",
      "text/plain": [
       "<IPython.core.display.Image object>"
      ]
     },
     "execution_count": 13,
     "metadata": {
     },
     "output_type": "execute_result"
    }
   ],
   "source": [
    "plot(shape(:,1),shape(:,2)/2,\"*\");\n",
    "hold on;\n",
    "plot(shape(:,1),-1*shape(:,2)/2,\"*\");"
   ]
  },
  {
   "cell_type": "markdown",
   "metadata": {
    "collapsed": false
   },
   "source": [
    "中轴线的剖面面积:\n",
    "$\\int 2r dl \\sim \\sum (r(i)+r(i+1))/2*dr$"
   ]
  },
  {
   "cell_type": "code",
   "execution_count": 4,
   "metadata": {
    "collapsed": false
   },
   "outputs": [
    {
     "name": "stdout",
     "output_type": "stream",
     "text": [
      "row =  65\n",
      "column =  2\n"
     ]
    }
   ],
   "source": [
    "load(\"shape1.txt\")\n",
    "[row,column]=size(shape1)\n"
   ]
  },
  {
   "cell_type": "markdown",
   "metadata": {
    "collapsed": false
   },
   "source": [
    "面积单位：mm$^2$"
   ]
  },
  {
   "cell_type": "code",
   "execution_count": 6,
   "metadata": {
    "collapsed": false
   },
   "outputs": [
    {
     "name": "stdout",
     "output_type": "stream",
     "text": [
      "sum =    6.4371e+04\n"
     ]
    }
   ],
   "source": [
    "sum=0;\n",
    "narea=zeros(64,1);\n",
    "for i = [1:row-1]\n",
    "narea(i)=(shape1(i,2)+shape1(i+1,2))*(shape1(i+1,1)-shape1(i,1))*0.5;\n",
    "sum+=narea(i);\n",
    "end\n",
    "sum"
   ]
  },
  {
   "cell_type": "markdown",
   "metadata": {
    "collapsed": false
   },
   "source": [
    "也就是大约为644cm$^2$"
   ]
  },
  {
   "cell_type": "markdown",
   "metadata": {
    "collapsed": false
   },
   "source": [
    "标枪表面积：\n",
    "$\\int 2\\pi r * dl = \\pi * $ 中轴线剖面面积"
   ]
  },
  {
   "cell_type": "code",
   "execution_count": 29,
   "metadata": {
    "collapsed": false
   },
   "outputs": [
    {
     "name": "stdout",
     "output_type": "stream",
     "text": [
      "ans =    2.0223e+05\n"
     ]
    }
   ],
   "source": [
    "sum*pi"
   ]
  },
  {
   "cell_type": "markdown",
   "metadata": {
    "collapsed": false
   },
   "source": [
    "大概为2022 cm$^2$"
   ]
  },
  {
   "cell_type": "markdown",
   "metadata": {
    "collapsed": false
   },
   "source": [
    "标枪形心的位置，几何中心，所有点坐标的中心，每个梯形的几何中心$*$权重（面积）"
   ]
  },
  {
   "cell_type": "code",
   "execution_count": 11,
   "metadata": {
    "collapsed": false,
    "scrolled": true
   },
   "outputs": [
    {
     "name": "stdout",
     "output_type": "stream",
     "text": [
      "center =  1345.7\n"
     ]
    }
   ],
   "source": [
    "center=0;\n",
    "for i = [1:row-1]\n",
    "center+=narea(i)*(shape1(i+1,1)+shape1(i,1))/2;\n",
    "end\n",
    "center=center/sum"
   ]
  },
  {
   "cell_type": "markdown",
   "metadata": {
    "collapsed": false
   },
   "source": [
    "标枪的几何中心应该是x=1345.7mm 位置的轴线上"
   ]
  },
  {
   "cell_type": "markdown",
   "metadata": {
    "collapsed": false
   },
   "source": [
    "2\t现有某标枪比赛中24名运动员使用同型号标枪投掷的实测数据（见附件）。请对这些数据进行分析，建立合适的数学模型，找出标枪飞行过程中的运动规律。\n"
   ]
  },
  {
   "cell_type": "code",
   "execution_count": 2,
   "metadata": {
    "collapsed": false
   },
   "outputs": [
   ],
   "source": [
    "load(\"distance.txt\")"
   ]
  },
  {
   "cell_type": "code",
   "execution_count": 3,
   "metadata": {
    "collapsed": false
   },
   "outputs": [
    {
     "name": "stdout",
     "output_type": "stream",
     "text": [
      "ans =\n"
     ]
    },
    {
     "name": "stdout",
     "output_type": "stream",
     "text": [
      "\n"
     ]
    },
    {
     "name": "stdout",
     "output_type": "stream",
     "text": [
      "   24    5\n"
     ]
    },
    {
     "name": "stdout",
     "output_type": "stream",
     "text": [
      "\n"
     ]
    }
   ],
   "source": [
    "size(distance)\n",
    "%distance(:,5)"
   ]
  },
  {
   "cell_type": "markdown",
   "metadata": {
    "collapsed": false
   },
   "source": [
    "拟合公式可取$\\eta(v)*v^2*sin(2\\gamma)*|cos(\\alpha)|$\n",
    "其中,$\\eta(v)=1/v$"
   ]
  },
  {
   "cell_type": "code",
   "execution_count": 0,
   "metadata": {
    "collapsed": false
   },
   "outputs": [
   ],
   "source": [
   ]
  },
  {
   "cell_type": "code",
   "execution_count": 10,
   "metadata": {
    "collapsed": false
   },
   "outputs": [
    {
     "name": "stdout",
     "output_type": "stream",
     "text": [
      "                                                                               \n"
     ]
    },
    {
     "name": "stdout",
     "output_type": "stream",
     "text": [
      " 90 |----------------------------------------------------------------------|   \n"
     ]
    },
    {
     "name": "stdout",
     "output_type": "stream",
     "text": [
      "    |             +             +              +             +             |   \n"
     ]
    },
    {
     "name": "stdout",
     "output_type": "stream",
     "text": [
      "    |                                                       C C            |   \n"
     ]
    },
    {
     "name": "stdout",
     "output_type": "stream",
     "text": [
      " 85 |-+                                                                  +-|   \n"
     ]
    },
    {
     "name": "stdout",
     "output_type": "stream",
     "text": [
      "    |                                                   C                  |   \n"
     ]
    },
    {
     "name": "stdout",
     "output_type": "stream",
     "text": [
      "    |                                            C   CC                    |   \n"
     ]
    },
    {
     "name": "stdout",
     "output_type": "stream",
     "text": [
      " 80 |-+                                             CC C                 +-|   \n"
     ]
    },
    {
     "name": "stdout",
     "output_type": "stream",
     "text": [
      "    |                                            C                         |   \n"
     ]
    },
    {
     "name": "stdout",
     "output_type": "stream",
     "text": [
      "    |                                                                      |   \n"
     ]
    },
    {
     "name": "stdout",
     "output_type": "stream",
     "text": [
      " 75 |-+                                                                  +-|   \n"
     ]
    },
    {
     "name": "stdout",
     "output_type": "stream",
     "text": [
      "    |                                                                      |   \n"
     ]
    },
    {
     "name": "stdout",
     "output_type": "stream",
     "text": [
      " 70 |-+                                                                  +-|   \n"
     ]
    },
    {
     "name": "stdout",
     "output_type": "stream",
     "text": [
      "    |                                                                      |   \n"
     ]
    },
    {
     "name": "stdout",
     "output_type": "stream",
     "text": [
      "    |                                C                                     |   \n"
     ]
    },
    {
     "name": "stdout",
     "output_type": "stream",
     "text": [
      " 65 |-+                  CC    C                                         +-|   \n"
     ]
    },
    {
     "name": "stdout",
     "output_type": "stream",
     "text": [
      "    |                    C                                                 |   \n"
     ]
    },
    {
     "name": "stdout",
     "output_type": "stream",
     "text": [
      "    |                    C                                                 |   \n"
     ]
    },
    {
     "name": "stdout",
     "output_type": "stream",
     "text": [
      " 60 |-+          C       C                                               +-|   \n"
     ]
    },
    {
     "name": "stdout",
     "output_type": "stream",
     "text": [
      "    |         C    C                                                       |   \n"
     ]
    },
    {
     "name": "stdout",
     "output_type": "stream",
     "text": [
      "    |             +   C         +              +             +             |   \n"
     ]
    },
    {
     "name": "stdout",
     "output_type": "stream",
     "text": [
      " 55 |----------------------------------------------------------------------|   \n"
     ]
    },
    {
     "name": "stdout",
     "output_type": "stream",
     "text": [
      "   22            24            26             28            30            32   \n"
     ]
    },
    {
     "name": "stdout",
     "output_type": "stream",
     "text": [
      "                                                                               \n"
     ]
    },
    {
     "name": "stdout",
     "output_type": "stream",
     "text": [
      "                                                                               \n"
     ]
    },
    {
     "name": "stdout",
     "output_type": "stream",
     "text": [
      " 90 |----------------------------------------------------------------------|   \n"
     ]
    },
    {
     "name": "stdout",
     "output_type": "stream",
     "text": [
      "    |           +           +           +          +           +           |   \n"
     ]
    },
    {
     "name": "stdout",
     "output_type": "stream",
     "text": [
      "    |                                                          C           |   \n"
     ]
    },
    {
     "name": "stdout",
     "output_type": "stream",
     "text": [
      " 85 |-+                                                                  +-|   \n"
     ]
    },
    {
     "name": "stdout",
     "output_type": "stream",
     "text": [
      "    |                                                         C            |   \n"
     ]
    },
    {
     "name": "stdout",
     "output_type": "stream",
     "text": [
      "    |                                           CC        CC               |   \n"
     ]
    },
    {
     "name": "stdout",
     "output_type": "stream",
     "text": [
      " 80 |-+                                              C   C    C          +-|   \n"
     ]
    },
    {
     "name": "stdout",
     "output_type": "stream",
     "text": [
      "    |                                                   C                  |   \n"
     ]
    },
    {
     "name": "stdout",
     "output_type": "stream",
     "text": [
      "    |                                                                      |   \n"
     ]
    },
    {
     "name": "stdout",
     "output_type": "stream",
     "text": [
      " 75 |-+                                                                  +-|   \n"
     ]
    },
    {
     "name": "stdout",
     "output_type": "stream",
     "text": [
      "    |                                                                      |   \n"
     ]
    },
    {
     "name": "stdout",
     "output_type": "stream",
     "text": [
      " 70 |-+                                                                  +-|   \n"
     ]
    },
    {
     "name": "stdout",
     "output_type": "stream",
     "text": [
      "    |                                                                      |   \n"
     ]
    },
    {
     "name": "stdout",
     "output_type": "stream",
     "text": [
      "    |                       C                                              |   \n"
     ]
    },
    {
     "name": "stdout",
     "output_type": "stream",
     "text": [
      " 65 |-+                       C  C   C                                   +-|   \n"
     ]
    },
    {
     "name": "stdout",
     "output_type": "stream",
     "text": [
      "    |                             C                                        |   \n"
     ]
    },
    {
     "name": "stdout",
     "output_type": "stream",
     "text": [
      "    |                              C                                       |   \n"
     ]
    },
    {
     "name": "stdout",
     "output_type": "stream",
     "text": [
      " 60 |-+                     C   C                                        +-|   \n"
     ]
    },
    {
     "name": "stdout",
     "output_type": "stream",
     "text": [
      "    |                         C  C                                         |   \n"
     ]
    },
    {
     "name": "stdout",
     "output_type": "stream",
     "text": [
      "    |       C   +           +           +          +           +           |   \n"
     ]
    },
    {
     "name": "stdout",
     "output_type": "stream",
     "text": [
      " 55 |----------------------------------------------------------------------|   \n"
     ]
    },
    {
     "name": "stdout",
     "output_type": "stream",
     "text": [
      "   18          20          22          24         26          28          30   \n"
     ]
    },
    {
     "name": "stdout",
     "output_type": "stream",
     "text": [
      "                                                                               \n"
     ]
    }
   ],
   "source": [
    "plot(distance(:,2),distance(:,5),\"*\");\n",
    "x=distance(:,2).*sin(2*(distance(:,3))*pi/180).*abs(cos(distance(:,4)*pi/180));\n",
    "\n",
    "plot(x,distance(:,5),\"*\")\n"
   ]
  },
  {
   "cell_type": "code",
   "execution_count": 27,
   "metadata": {
    "collapsed": false
   },
   "outputs": [
    {
     "name": "stdout",
     "output_type": "stream",
     "text": [
      "c1 =\n"
     ]
    },
    {
     "name": "stdout",
     "output_type": "stream",
     "text": [
      "\n"
     ]
    },
    {
     "name": "stdout",
     "output_type": "stream",
     "text": [
      "    3.9351  -25.3515\n"
     ]
    },
    {
     "name": "stdout",
     "output_type": "stream",
     "text": [
      "\n"
     ]
    },
    {
     "name": "stdout",
     "output_type": "stream",
     "text": [
      "ans =  3.9351\n"
     ]
    },
    {
     "name": "stdout",
     "output_type": "stream",
     "text": [
      "ans = -25.351\n"
     ]
    }
   ],
   "source": [
    "[c1,c2]=polyfit(x,distance(:,5),1);\n",
    "c1\n",
    "c1(1)\n",
    "c1(2)"
   ]
  },
  {
   "cell_type": "code",
   "execution_count": 28,
   "metadata": {
    "collapsed": false
   },
   "outputs": [
    {
     "name": "stdout",
     "output_type": "stream",
     "text": [
      "                                                                               \n"
     ]
    },
    {
     "name": "stdout",
     "output_type": "stream",
     "text": [
      " 90 |----------------------------------------------------------------------|   \n"
     ]
    },
    {
     "name": "stdout",
     "output_type": "stream",
     "text": [
      "    |           +           +           +          +           +   C       |   \n"
     ]
    },
    {
     "name": "stdout",
     "output_type": "stream",
     "text": [
      " 85 |-+                                                                  +-|   \n"
     ]
    },
    {
     "name": "stdout",
     "output_type": "stream",
     "text": [
      "    |                                                         CC           |   \n"
     ]
    },
    {
     "name": "stdout",
     "output_type": "stream",
     "text": [
      "    |                                                     CC               |   \n"
     ]
    },
    {
     "name": "stdout",
     "output_type": "stream",
     "text": [
      " 80 |-+                                                 CC               +-|   \n"
     ]
    },
    {
     "name": "stdout",
     "output_type": "stream",
     "text": [
      "    |                                                C                     |   \n"
     ]
    },
    {
     "name": "stdout",
     "output_type": "stream",
     "text": [
      " 75 |-+                                          C                       +-|   \n"
     ]
    },
    {
     "name": "stdout",
     "output_type": "stream",
     "text": [
      "    |                                           C                          |   \n"
     ]
    },
    {
     "name": "stdout",
     "output_type": "stream",
     "text": [
      "    |                                                                      |   \n"
     ]
    },
    {
     "name": "stdout",
     "output_type": "stream",
     "text": [
      " 70 |-+                                                                  +-|   \n"
     ]
    },
    {
     "name": "stdout",
     "output_type": "stream",
     "text": [
      "    |                                C                                     |   \n"
     ]
    },
    {
     "name": "stdout",
     "output_type": "stream",
     "text": [
      " 65 |-+                           CC                                     +-|   \n"
     ]
    },
    {
     "name": "stdout",
     "output_type": "stream",
     "text": [
      "    |                           CC                                         |   \n"
     ]
    },
    {
     "name": "stdout",
     "output_type": "stream",
     "text": [
      "    |                       C C                                            |   \n"
     ]
    },
    {
     "name": "stdout",
     "output_type": "stream",
     "text": [
      " 60 |-+                                                                  +-|   \n"
     ]
    },
    {
     "name": "stdout",
     "output_type": "stream",
     "text": [
      "    |                 C                                                    |   \n"
     ]
    },
    {
     "name": "stdout",
     "output_type": "stream",
     "text": [
      " 55 |-+                                                                  +-|   \n"
     ]
    },
    {
     "name": "stdout",
     "output_type": "stream",
     "text": [
      "    |                                                                      |   \n"
     ]
    },
    {
     "name": "stdout",
     "output_type": "stream",
     "text": [
      "    |           +           +           +          +           +           |   \n"
     ]
    },
    {
     "name": "stdout",
     "output_type": "stream",
     "text": [
      " 50 |----------------------------------------------------------------------|   \n"
     ]
    },
    {
     "name": "stdout",
     "output_type": "stream",
     "text": [
      "   18          20          22          24         26          28          30   \n"
     ]
    },
    {
     "name": "stdout",
     "output_type": "stream",
     "text": [
      "                                                                               \n"
     ]
    }
   ],
   "source": [
    "plot(x,c1(1)*x+c1(2),\"*\")"
   ]
  },
  {
   "cell_type": "markdown",
   "metadata": {
    "collapsed": false
   },
   "source": [
    "可以看作线性的"
   ]
  },
  {
   "cell_type": "markdown",
   "metadata": {
    "collapsed": false
   },
   "source": [
    "3.\t假设某型标枪的几何参数同问题1，重心位于形心前10cm（重心在枪尖与形心之间），出手时标枪的初始俯仰角速度为0。在无风的前提下，对标枪投掷出手瞬间、出手后的受力及运动情况进行分析，建立标枪飞行的数学模型并求解如下问题: （1）假设某运动员投掷出手速度为29.70m/s、出手角为36.6$^0$、初始攻角为-0.9$^0$，请估算出标枪的投掷距离。（2）假设某运动员投掷出手速度为，请给出最佳的出手角和初始攻角使得投掷距离最大并估算出标枪的投掷距离。\n"
   ]
  },
  {
   "cell_type": "code",
   "execution_count": 39,
   "metadata": {
    "collapsed": false
   },
   "outputs": [
    {
     "name": "stdout",
     "output_type": "stream",
     "text": [
      "                                                                               \n",
      " 100 |---------------------------------------------------------------------|   \n",
      "     |        +        +       +        +      +--------------------------+|   \n",
      "     |                 C          C            +---C---handout angle alpha+|   \n",
      "     |       C        CC     C       C                                     |   \n",
      "  80 |-+    C    C    CC  C CCC C                                        +-|   \n",
      "     |                                                                     |   \n",
      "     |          C      C                                                   |   \n",
      "     |           CC  CCC                                                   |   \n",
      "  60 |-+           C C C  C                                              +-|   \n",
      "     |           C     C C                                                 |   \n",
      "     |                                                                     |   \n",
      "     |                                                                     |   \n",
      "  40 |-+                                                                 +-|   \n",
      "     |                                          CCC                        |   \n",
      "     |                               CCCCCCCCCCCCCCCCCCCCCC                |   \n",
      "     |                          CCCCC                     CCCCCCC          |   \n",
      "  20 |-+                     CCC                                         +-|   \n",
      "     |                   CCCC                                   CC         |   \n",
      "     |                 CC                                         CCC      |   \n",
      "     |        +        C       +        +        +        +       + CC     |   \n",
      "   0 |---------------------------------------------------------------------|   \n",
      "   -1000    -500       0      500     1000     1500     2000    2500     3000  \n",
      "                                                                               \n",
      "                                                                               \n",
      " 100 |---------------------------------------------------------------------|   \n",
      "     |        +        +       +        +        +------------------------+|   \n",
      "     |                 C          C              +---C---attack angel beta+|   \n",
      "     |       C        CC     C       C                                     |   \n",
      "  80 |-+    C    C    CC  C CCC C                                        +-|   \n",
      "     |                                                                     |   \n",
      "     |          C      C                                                   |   \n",
      "     |           CC  CCC                                                   |   \n",
      "  60 |-+           C C C  C                                              +-|   \n",
      "     |           C     C C                                                 |   \n",
      "     |                                                                     |   \n",
      "     |                                                                     |   \n",
      "  40 |-+                                                                 +-|   \n",
      "     |                                          CCC                        |   \n",
      "     |                               CCCCCCCCCCCCCCCCCCCCCC                |   \n",
      "     |                          CCCCC                     CCCCCCC          |   \n",
      "  20 |-+                     CCC                                         +-|   \n",
      "     |                   CCCC                                   CC         |   \n",
      "     |                 CC                                         CCC      |   \n",
      "     |        +        C       +        +        +        +       + CC     |   \n",
      "   0 |---------------------------------------------------------------------|   \n",
      "   -1000    -500       0      500     1000     1500     2000    2500     3000  \n",
      "                                                                               \n"
     ]
    }
   ],
   "source": [
    "plot(distance(:,4),distance(:,5),\"*\")\n",
    "legend(\"attack angel beta\")"
   ]
  },
  {
   "cell_type": "code",
   "execution_count": 0,
   "metadata": {
    "collapsed": false
   },
   "outputs": [
   ],
   "source": [
   ]
  }
 ],
 "metadata": {
  "kernelspec": {
   "display_name": "Octave",
   "language": "octave",
   "name": "octave"
  },
  "language_info": {
   "file_extension": ".m",
   "help_links": [
    {
     "text": "GNU Octave",
     "url": "https://www.gnu.org/software/octave/support.html"
    },
    {
     "text": "Octave Kernel",
     "url": "https://github.com/Calysto/octave_kernel"
    },
    {
     "text": "MetaKernel Magics",
     "url": "https://github.com/calysto/metakernel/blob/master/metakernel/magics/README.md"
    }
   ],
   "mimetype": "text/x-octave",
   "name": "octave",
   "version": "4.2.2"
  }
 },
 "nbformat": 4,
 "nbformat_minor": 0
}